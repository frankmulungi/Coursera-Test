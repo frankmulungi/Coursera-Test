{
  "nbformat": 4,
  "nbformat_minor": 0,
  "metadata": {
    "colab": {
      "provenance": [],
      "toc_visible": true,
      "authorship_tag": "ABX9TyNG8Iom3M5DmgepIi/Ou0vP",
      "include_colab_link": true
    },
    "kernelspec": {
      "name": "python3",
      "display_name": "Python 3"
    },
    "language_info": {
      "name": "python"
    }
  },
  "cells": [
    {
      "cell_type": "markdown",
      "metadata": {
        "id": "view-in-github",
        "colab_type": "text"
      },
      "source": [
        "<a href=\"https://colab.research.google.com/github/frankmulungi/Coursera-Test/blob/master/pcep_pcap.ipynb\" target=\"_parent\"><img src=\"https://colab.research.google.com/assets/colab-badge.svg\" alt=\"Open In Colab\"/></a>"
      ]
    },
    {
      "cell_type": "code",
      "execution_count": 1,
      "metadata": {
        "id": "ZcX6tNnvNmyg"
      },
      "outputs": [],
      "source": [
        "from platform import platform\n",
        "\n",
        "from platform import machine\n",
        "\n",
        "from platform import processor\n",
        "\n",
        "from platform import system\n",
        "\n",
        "from platform import version\n",
        "\n",
        "from platform import python_implementation, python_version_tuple\n",
        "\n",
        "import os\n",
        "\n"
      ]
    },
    {
      "cell_type": "code",
      "source": [
        "dir(os)"
      ],
      "metadata": {
        "colab": {
          "base_uri": "https://localhost:8080/"
        },
        "id": "X2f_CJNbSxl0",
        "outputId": "a1f5514f-fc27-4c8e-d264-76472c3a345d"
      },
      "execution_count": 2,
      "outputs": [
        {
          "output_type": "execute_result",
          "data": {
            "text/plain": [
              "['CLD_CONTINUED',\n",
              " 'CLD_DUMPED',\n",
              " 'CLD_EXITED',\n",
              " 'CLD_KILLED',\n",
              " 'CLD_STOPPED',\n",
              " 'CLD_TRAPPED',\n",
              " 'DirEntry',\n",
              " 'EFD_CLOEXEC',\n",
              " 'EFD_NONBLOCK',\n",
              " 'EFD_SEMAPHORE',\n",
              " 'EX_CANTCREAT',\n",
              " 'EX_CONFIG',\n",
              " 'EX_DATAERR',\n",
              " 'EX_IOERR',\n",
              " 'EX_NOHOST',\n",
              " 'EX_NOINPUT',\n",
              " 'EX_NOPERM',\n",
              " 'EX_NOUSER',\n",
              " 'EX_OK',\n",
              " 'EX_OSERR',\n",
              " 'EX_OSFILE',\n",
              " 'EX_PROTOCOL',\n",
              " 'EX_SOFTWARE',\n",
              " 'EX_TEMPFAIL',\n",
              " 'EX_UNAVAILABLE',\n",
              " 'EX_USAGE',\n",
              " 'F_LOCK',\n",
              " 'F_OK',\n",
              " 'F_TEST',\n",
              " 'F_TLOCK',\n",
              " 'F_ULOCK',\n",
              " 'GRND_NONBLOCK',\n",
              " 'GRND_RANDOM',\n",
              " 'GenericAlias',\n",
              " 'MFD_ALLOW_SEALING',\n",
              " 'MFD_CLOEXEC',\n",
              " 'MFD_HUGETLB',\n",
              " 'MFD_HUGE_16GB',\n",
              " 'MFD_HUGE_16MB',\n",
              " 'MFD_HUGE_1GB',\n",
              " 'MFD_HUGE_1MB',\n",
              " 'MFD_HUGE_256MB',\n",
              " 'MFD_HUGE_2GB',\n",
              " 'MFD_HUGE_2MB',\n",
              " 'MFD_HUGE_32MB',\n",
              " 'MFD_HUGE_512KB',\n",
              " 'MFD_HUGE_512MB',\n",
              " 'MFD_HUGE_64KB',\n",
              " 'MFD_HUGE_8MB',\n",
              " 'MFD_HUGE_MASK',\n",
              " 'MFD_HUGE_SHIFT',\n",
              " 'Mapping',\n",
              " 'MutableMapping',\n",
              " 'NGROUPS_MAX',\n",
              " 'O_ACCMODE',\n",
              " 'O_APPEND',\n",
              " 'O_ASYNC',\n",
              " 'O_CLOEXEC',\n",
              " 'O_CREAT',\n",
              " 'O_DIRECT',\n",
              " 'O_DIRECTORY',\n",
              " 'O_DSYNC',\n",
              " 'O_EXCL',\n",
              " 'O_FSYNC',\n",
              " 'O_LARGEFILE',\n",
              " 'O_NDELAY',\n",
              " 'O_NOATIME',\n",
              " 'O_NOCTTY',\n",
              " 'O_NOFOLLOW',\n",
              " 'O_NONBLOCK',\n",
              " 'O_PATH',\n",
              " 'O_RDONLY',\n",
              " 'O_RDWR',\n",
              " 'O_RSYNC',\n",
              " 'O_SYNC',\n",
              " 'O_TMPFILE',\n",
              " 'O_TRUNC',\n",
              " 'O_WRONLY',\n",
              " 'POSIX_FADV_DONTNEED',\n",
              " 'POSIX_FADV_NOREUSE',\n",
              " 'POSIX_FADV_NORMAL',\n",
              " 'POSIX_FADV_RANDOM',\n",
              " 'POSIX_FADV_SEQUENTIAL',\n",
              " 'POSIX_FADV_WILLNEED',\n",
              " 'POSIX_SPAWN_CLOSE',\n",
              " 'POSIX_SPAWN_DUP2',\n",
              " 'POSIX_SPAWN_OPEN',\n",
              " 'PRIO_PGRP',\n",
              " 'PRIO_PROCESS',\n",
              " 'PRIO_USER',\n",
              " 'P_ALL',\n",
              " 'P_NOWAIT',\n",
              " 'P_NOWAITO',\n",
              " 'P_PGID',\n",
              " 'P_PID',\n",
              " 'P_PIDFD',\n",
              " 'P_WAIT',\n",
              " 'PathLike',\n",
              " 'RTLD_DEEPBIND',\n",
              " 'RTLD_GLOBAL',\n",
              " 'RTLD_LAZY',\n",
              " 'RTLD_LOCAL',\n",
              " 'RTLD_NODELETE',\n",
              " 'RTLD_NOLOAD',\n",
              " 'RTLD_NOW',\n",
              " 'RWF_APPEND',\n",
              " 'RWF_DSYNC',\n",
              " 'RWF_HIPRI',\n",
              " 'RWF_NOWAIT',\n",
              " 'RWF_SYNC',\n",
              " 'R_OK',\n",
              " 'SCHED_BATCH',\n",
              " 'SCHED_FIFO',\n",
              " 'SCHED_IDLE',\n",
              " 'SCHED_OTHER',\n",
              " 'SCHED_RESET_ON_FORK',\n",
              " 'SCHED_RR',\n",
              " 'SEEK_CUR',\n",
              " 'SEEK_DATA',\n",
              " 'SEEK_END',\n",
              " 'SEEK_HOLE',\n",
              " 'SEEK_SET',\n",
              " 'SPLICE_F_MORE',\n",
              " 'SPLICE_F_MOVE',\n",
              " 'SPLICE_F_NONBLOCK',\n",
              " 'ST_APPEND',\n",
              " 'ST_MANDLOCK',\n",
              " 'ST_NOATIME',\n",
              " 'ST_NODEV',\n",
              " 'ST_NODIRATIME',\n",
              " 'ST_NOEXEC',\n",
              " 'ST_NOSUID',\n",
              " 'ST_RDONLY',\n",
              " 'ST_RELATIME',\n",
              " 'ST_SYNCHRONOUS',\n",
              " 'ST_WRITE',\n",
              " 'TMP_MAX',\n",
              " 'WCONTINUED',\n",
              " 'WCOREDUMP',\n",
              " 'WEXITED',\n",
              " 'WEXITSTATUS',\n",
              " 'WIFCONTINUED',\n",
              " 'WIFEXITED',\n",
              " 'WIFSIGNALED',\n",
              " 'WIFSTOPPED',\n",
              " 'WNOHANG',\n",
              " 'WNOWAIT',\n",
              " 'WSTOPPED',\n",
              " 'WSTOPSIG',\n",
              " 'WTERMSIG',\n",
              " 'WUNTRACED',\n",
              " 'W_OK',\n",
              " 'XATTR_CREATE',\n",
              " 'XATTR_REPLACE',\n",
              " 'XATTR_SIZE_MAX',\n",
              " 'X_OK',\n",
              " '_Environ',\n",
              " '__all__',\n",
              " '__builtins__',\n",
              " '__cached__',\n",
              " '__doc__',\n",
              " '__file__',\n",
              " '__loader__',\n",
              " '__name__',\n",
              " '__package__',\n",
              " '__spec__',\n",
              " '_check_methods',\n",
              " '_execvpe',\n",
              " '_exists',\n",
              " '_exit',\n",
              " '_fspath',\n",
              " '_fwalk',\n",
              " '_get_exports_list',\n",
              " '_spawnvef',\n",
              " '_walk',\n",
              " '_wrap_close',\n",
              " 'abc',\n",
              " 'abort',\n",
              " 'access',\n",
              " 'altsep',\n",
              " 'chdir',\n",
              " 'chmod',\n",
              " 'chown',\n",
              " 'chroot',\n",
              " 'close',\n",
              " 'closerange',\n",
              " 'confstr',\n",
              " 'confstr_names',\n",
              " 'copy_file_range',\n",
              " 'cpu_count',\n",
              " 'ctermid',\n",
              " 'curdir',\n",
              " 'defpath',\n",
              " 'device_encoding',\n",
              " 'devnull',\n",
              " 'dup',\n",
              " 'dup2',\n",
              " 'environ',\n",
              " 'environb',\n",
              " 'error',\n",
              " 'eventfd',\n",
              " 'eventfd_read',\n",
              " 'eventfd_write',\n",
              " 'execl',\n",
              " 'execle',\n",
              " 'execlp',\n",
              " 'execlpe',\n",
              " 'execv',\n",
              " 'execve',\n",
              " 'execvp',\n",
              " 'execvpe',\n",
              " 'extsep',\n",
              " 'fchdir',\n",
              " 'fchmod',\n",
              " 'fchown',\n",
              " 'fdatasync',\n",
              " 'fdopen',\n",
              " 'fork',\n",
              " 'forkpty',\n",
              " 'fpathconf',\n",
              " 'fsdecode',\n",
              " 'fsencode',\n",
              " 'fspath',\n",
              " 'fstat',\n",
              " 'fstatvfs',\n",
              " 'fsync',\n",
              " 'ftruncate',\n",
              " 'fwalk',\n",
              " 'get_blocking',\n",
              " 'get_exec_path',\n",
              " 'get_inheritable',\n",
              " 'get_terminal_size',\n",
              " 'getcwd',\n",
              " 'getcwdb',\n",
              " 'getegid',\n",
              " 'getenv',\n",
              " 'getenvb',\n",
              " 'geteuid',\n",
              " 'getgid',\n",
              " 'getgrouplist',\n",
              " 'getgroups',\n",
              " 'getloadavg',\n",
              " 'getlogin',\n",
              " 'getpgid',\n",
              " 'getpgrp',\n",
              " 'getpid',\n",
              " 'getppid',\n",
              " 'getpriority',\n",
              " 'getrandom',\n",
              " 'getresgid',\n",
              " 'getresuid',\n",
              " 'getsid',\n",
              " 'getuid',\n",
              " 'getxattr',\n",
              " 'initgroups',\n",
              " 'isatty',\n",
              " 'kill',\n",
              " 'killpg',\n",
              " 'lchown',\n",
              " 'linesep',\n",
              " 'link',\n",
              " 'listdir',\n",
              " 'listxattr',\n",
              " 'lockf',\n",
              " 'lseek',\n",
              " 'lstat',\n",
              " 'major',\n",
              " 'makedev',\n",
              " 'makedirs',\n",
              " 'memfd_create',\n",
              " 'minor',\n",
              " 'mkdir',\n",
              " 'mkfifo',\n",
              " 'mknod',\n",
              " 'name',\n",
              " 'nice',\n",
              " 'open',\n",
              " 'openpty',\n",
              " 'pardir',\n",
              " 'path',\n",
              " 'pathconf',\n",
              " 'pathconf_names',\n",
              " 'pathsep',\n",
              " 'pidfd_open',\n",
              " 'pipe',\n",
              " 'pipe2',\n",
              " 'popen',\n",
              " 'posix_fadvise',\n",
              " 'posix_fallocate',\n",
              " 'posix_spawn',\n",
              " 'posix_spawnp',\n",
              " 'pread',\n",
              " 'preadv',\n",
              " 'putenv',\n",
              " 'pwrite',\n",
              " 'pwritev',\n",
              " 'read',\n",
              " 'readlink',\n",
              " 'readv',\n",
              " 'register_at_fork',\n",
              " 'remove',\n",
              " 'removedirs',\n",
              " 'removexattr',\n",
              " 'rename',\n",
              " 'renames',\n",
              " 'replace',\n",
              " 'rmdir',\n",
              " 'scandir',\n",
              " 'sched_get_priority_max',\n",
              " 'sched_get_priority_min',\n",
              " 'sched_getaffinity',\n",
              " 'sched_getparam',\n",
              " 'sched_getscheduler',\n",
              " 'sched_param',\n",
              " 'sched_rr_get_interval',\n",
              " 'sched_setaffinity',\n",
              " 'sched_setparam',\n",
              " 'sched_setscheduler',\n",
              " 'sched_yield',\n",
              " 'sendfile',\n",
              " 'sep',\n",
              " 'set_blocking',\n",
              " 'set_inheritable',\n",
              " 'setegid',\n",
              " 'seteuid',\n",
              " 'setgid',\n",
              " 'setgroups',\n",
              " 'setpgid',\n",
              " 'setpgrp',\n",
              " 'setpriority',\n",
              " 'setregid',\n",
              " 'setresgid',\n",
              " 'setresuid',\n",
              " 'setreuid',\n",
              " 'setsid',\n",
              " 'setuid',\n",
              " 'setxattr',\n",
              " 'spawnl',\n",
              " 'spawnle',\n",
              " 'spawnlp',\n",
              " 'spawnlpe',\n",
              " 'spawnv',\n",
              " 'spawnve',\n",
              " 'spawnvp',\n",
              " 'spawnvpe',\n",
              " 'splice',\n",
              " 'st',\n",
              " 'stat',\n",
              " 'stat_result',\n",
              " 'statvfs',\n",
              " 'statvfs_result',\n",
              " 'strerror',\n",
              " 'supports_bytes_environ',\n",
              " 'supports_dir_fd',\n",
              " 'supports_effective_ids',\n",
              " 'supports_fd',\n",
              " 'supports_follow_symlinks',\n",
              " 'symlink',\n",
              " 'sync',\n",
              " 'sys',\n",
              " 'sysconf',\n",
              " 'sysconf_names',\n",
              " 'system',\n",
              " 'tcgetpgrp',\n",
              " 'tcsetpgrp',\n",
              " 'terminal_size',\n",
              " 'times',\n",
              " 'times_result',\n",
              " 'truncate',\n",
              " 'ttyname',\n",
              " 'umask',\n",
              " 'uname',\n",
              " 'uname_result',\n",
              " 'unlink',\n",
              " 'unsetenv',\n",
              " 'urandom',\n",
              " 'utime',\n",
              " 'wait',\n",
              " 'wait3',\n",
              " 'wait4',\n",
              " 'waitid',\n",
              " 'waitid_result',\n",
              " 'waitpid',\n",
              " 'waitstatus_to_exitcode',\n",
              " 'walk',\n",
              " 'write',\n",
              " 'writev']"
            ]
          },
          "metadata": {},
          "execution_count": 2
        }
      ]
    },
    {
      "cell_type": "code",
      "source": [
        "\n",
        "print(version())"
      ],
      "metadata": {
        "colab": {
          "base_uri": "https://localhost:8080/"
        },
        "id": "rPbVhb4gPVr4",
        "outputId": "5971dc51-2cb7-4730-e211-e194fb993e8e"
      },
      "execution_count": 3,
      "outputs": [
        {
          "output_type": "stream",
          "name": "stdout",
          "text": [
            "#1 SMP Fri Jun 9 10:57:30 UTC 2023\n"
          ]
        }
      ]
    },
    {
      "cell_type": "code",
      "source": [
        "print(python_implementation())\n",
        "\n",
        "for atr in python_version_tuple():\n",
        "    print(atr)\n"
      ],
      "metadata": {
        "colab": {
          "base_uri": "https://localhost:8080/"
        },
        "id": "HUwfV5RZRUPp",
        "outputId": "f2b3248a-b55a-4a53-e529-2bb599baa2b8"
      },
      "execution_count": 4,
      "outputs": [
        {
          "output_type": "stream",
          "name": "stdout",
          "text": [
            "CPython\n",
            "3\n",
            "10\n",
            "12\n"
          ]
        }
      ]
    },
    {
      "cell_type": "code",
      "source": [
        "\n",
        "print(system())"
      ],
      "metadata": {
        "colab": {
          "base_uri": "https://localhost:8080/"
        },
        "id": "52YC2F8tPIUi",
        "outputId": "4dc05388-6f58-4a90-aaea-1ecbc326f1e7"
      },
      "execution_count": 5,
      "outputs": [
        {
          "output_type": "stream",
          "name": "stdout",
          "text": [
            "Linux\n"
          ]
        }
      ]
    },
    {
      "cell_type": "code",
      "source": [
        "print(processor())"
      ],
      "metadata": {
        "colab": {
          "base_uri": "https://localhost:8080/"
        },
        "id": "WmN6-5wPO390",
        "outputId": "7805a52e-0b1a-446b-8239-877bbfd23a45"
      },
      "execution_count": 6,
      "outputs": [
        {
          "output_type": "stream",
          "name": "stdout",
          "text": [
            "x86_64\n"
          ]
        }
      ]
    },
    {
      "cell_type": "code",
      "source": [
        "print(platform())"
      ],
      "metadata": {
        "colab": {
          "base_uri": "https://localhost:8080/"
        },
        "id": "NMHpgTV6OcQ1",
        "outputId": "032c0b48-0d65-40da-da66-5cb2d28a4d60"
      },
      "execution_count": 7,
      "outputs": [
        {
          "output_type": "stream",
          "name": "stdout",
          "text": [
            "Linux-5.15.109+-x86_64-with-glibc2.35\n"
          ]
        }
      ]
    },
    {
      "cell_type": "code",
      "source": [
        "print(platform(1))\n"
      ],
      "metadata": {
        "colab": {
          "base_uri": "https://localhost:8080/"
        },
        "id": "2QBs3nVlNtn1",
        "outputId": "89b86f6d-26fa-4258-b4af-cb5dee8f00de"
      },
      "execution_count": 8,
      "outputs": [
        {
          "output_type": "stream",
          "name": "stdout",
          "text": [
            "Linux-5.15.109+-x86_64-with-glibc2.35\n"
          ]
        }
      ]
    },
    {
      "cell_type": "code",
      "source": [
        "print(platform(0, 1))"
      ],
      "metadata": {
        "colab": {
          "base_uri": "https://localhost:8080/"
        },
        "id": "DlZLkxMSNt7o",
        "outputId": "21836e0d-b01d-4886-da47-30deb7044abc"
      },
      "execution_count": 9,
      "outputs": [
        {
          "output_type": "stream",
          "name": "stdout",
          "text": [
            "Linux-5.15.109+-x86_64-with-glibc2.35\n"
          ]
        }
      ]
    },
    {
      "cell_type": "code",
      "source": [
        "\n",
        "\n",
        "print(machine())"
      ],
      "metadata": {
        "colab": {
          "base_uri": "https://localhost:8080/"
        },
        "id": "Ht3xQsNSOV6p",
        "outputId": "ec81b05a-40ef-491b-e414-4db3ef31fc9d"
      },
      "execution_count": 10,
      "outputs": [
        {
          "output_type": "stream",
          "name": "stdout",
          "text": [
            "x86_64\n"
          ]
        }
      ]
    },
    {
      "cell_type": "code",
      "source": [
        "dir('random')"
      ],
      "metadata": {
        "colab": {
          "base_uri": "https://localhost:8080/"
        },
        "id": "pYwaoPccTCGt",
        "outputId": "e9b4b0f3-b8fa-4d75-f700-cb5dfc00fbf8"
      },
      "execution_count": 11,
      "outputs": [
        {
          "output_type": "execute_result",
          "data": {
            "text/plain": [
              "['__add__',\n",
              " '__class__',\n",
              " '__contains__',\n",
              " '__delattr__',\n",
              " '__dir__',\n",
              " '__doc__',\n",
              " '__eq__',\n",
              " '__format__',\n",
              " '__ge__',\n",
              " '__getattribute__',\n",
              " '__getitem__',\n",
              " '__getnewargs__',\n",
              " '__gt__',\n",
              " '__hash__',\n",
              " '__init__',\n",
              " '__init_subclass__',\n",
              " '__iter__',\n",
              " '__le__',\n",
              " '__len__',\n",
              " '__lt__',\n",
              " '__mod__',\n",
              " '__mul__',\n",
              " '__ne__',\n",
              " '__new__',\n",
              " '__reduce__',\n",
              " '__reduce_ex__',\n",
              " '__repr__',\n",
              " '__rmod__',\n",
              " '__rmul__',\n",
              " '__setattr__',\n",
              " '__sizeof__',\n",
              " '__str__',\n",
              " '__subclasshook__',\n",
              " 'capitalize',\n",
              " 'casefold',\n",
              " 'center',\n",
              " 'count',\n",
              " 'encode',\n",
              " 'endswith',\n",
              " 'expandtabs',\n",
              " 'find',\n",
              " 'format',\n",
              " 'format_map',\n",
              " 'index',\n",
              " 'isalnum',\n",
              " 'isalpha',\n",
              " 'isascii',\n",
              " 'isdecimal',\n",
              " 'isdigit',\n",
              " 'isidentifier',\n",
              " 'islower',\n",
              " 'isnumeric',\n",
              " 'isprintable',\n",
              " 'isspace',\n",
              " 'istitle',\n",
              " 'isupper',\n",
              " 'join',\n",
              " 'ljust',\n",
              " 'lower',\n",
              " 'lstrip',\n",
              " 'maketrans',\n",
              " 'partition',\n",
              " 'removeprefix',\n",
              " 'removesuffix',\n",
              " 'replace',\n",
              " 'rfind',\n",
              " 'rindex',\n",
              " 'rjust',\n",
              " 'rpartition',\n",
              " 'rsplit',\n",
              " 'rstrip',\n",
              " 'split',\n",
              " 'splitlines',\n",
              " 'startswith',\n",
              " 'strip',\n",
              " 'swapcase',\n",
              " 'title',\n",
              " 'translate',\n",
              " 'upper',\n",
              " 'zfill']"
            ]
          },
          "metadata": {},
          "execution_count": 11
        }
      ]
    },
    {
      "cell_type": "code",
      "source": [
        "# Demonstrating the ord() function.\n",
        "\n",
        "char_1 = 'b'\n",
        "char_2 = ' '  # space\n",
        "\n",
        "print(ord(char_1))\n",
        "print(ord(char_2))\n"
      ],
      "metadata": {
        "colab": {
          "base_uri": "https://localhost:8080/"
        },
        "id": "ExhPkjDTaYfi",
        "outputId": "4eec82a7-e438-4647-920e-1d498b92d6c5"
      },
      "execution_count": 12,
      "outputs": [
        {
          "output_type": "stream",
          "name": "stdout",
          "text": [
            "98\n",
            "32\n"
          ]
        }
      ]
    },
    {
      "cell_type": "code",
      "source": [
        "s1 = 'Where are the snows of yesteryear?'\n",
        "s2 = s1.split()"
      ],
      "metadata": {
        "id": "1-PtfoSIBvWq"
      },
      "execution_count": 13,
      "outputs": []
    },
    {
      "cell_type": "code",
      "source": [
        "def chromosome_check(chromosome):\n",
        "    for ch in chromosome:\n",
        "        if ch == 'X':\n",
        "            return female\n",
        "        if ch == 'Y':\n",
        "            return male\n",
        "        if ch == 'X' or ch == 'Y':\n",
        "            print(congratulations, 'you\\'re going to have a daughter.')\n",
        "            print(congratulations, 'you\\'re going to have a son.')\n",
        ""
      ],
      "metadata": {
        "id": "N0a_zM1sht0M"
      },
      "execution_count": 14,
      "outputs": []
    },
    {
      "cell_type": "code",
      "source": [
        "# Demonstrating the rfind() method:\n",
        "print(\"tau tau tau\".rfind(\"ta\"))\n",
        "print(\"tau tau tau\".rfind(\"ta\", 9))\n",
        "print(\"tau tau tau\".rfind(\"ta\", 3, 9))\n"
      ],
      "metadata": {
        "colab": {
          "base_uri": "https://localhost:8080/"
        },
        "id": "3fp0u12TA9I6",
        "outputId": "f5eaa22e-2389-4a02-cf8a-a3027e860edf"
      },
      "execution_count": 15,
      "outputs": [
        {
          "output_type": "stream",
          "name": "stdout",
          "text": [
            "8\n",
            "-1\n",
            "4\n"
          ]
        }
      ]
    },
    {
      "cell_type": "code",
      "source": [
        "def display_number(number):\n",
        "    digits = [\n",
        "        [\"###\", \"#.#\", \"#.#\", \"#.#\", \"###\"],  # digit 0\n",
        "        [\"..#\", \"..#\", \"..#\", \"..#\", \"..#\"],  # digit 1\n",
        "        [\"###\", \"..#\", \"###\", \"#..\", \"###\"],  # digit 2\n",
        "        [\"###\", \"..#\", \"###\", \"..#\", \"###\"],  # digit 3\n",
        "        [\"#.#\", \"#.#\", \"###\", \"..#\", \"..#\"],  # digit 4\n",
        "        [\"###\", \"#..\", \"###\", \"..#\", \"###\"],  # digit 5\n",
        "        [\"###\", \"#..\", \"###\", \"#.#\", \"###\"],  # digit 6\n",
        "        [\"###\", \"..#\", \"..#\", \"..#\", \"..#\"],  # digit 7\n",
        "        [\"###\", \"#.#\", \"###\", \"#.#\", \"###\"],  # digit 8\n",
        "        [\"###\", \"#.#\", \"###\", \"..#\", \"###\"]   # digit 9\n",
        "    ]\n",
        "    digits_str = str(number)\n",
        "    for row in range(5):\n",
        "        line = \"\"\n",
        "        for digit in digits_str:\n",
        "            line += digits[int(digit)][row] + \" \"\n",
        "        print(line)\n"
      ],
      "metadata": {
        "id": "8-CxzHDIqy9k"
      },
      "execution_count": 16,
      "outputs": []
    },
    {
      "cell_type": "code",
      "source": [
        "# Caesar cipher.\n",
        "text = input(\"Enter your message: \")\n",
        "cipher = ''\n",
        "for char in text:\n",
        "    if not char.isalpha():\n",
        "        continue\n",
        "    char = char.upper()\n",
        "    code = ord(char) + 1\n",
        "    if code > ord('Z'):\n",
        "        code = ord('A')\n",
        "    cipher += chr(code)\n",
        "\n",
        "print(cipher)\n"
      ],
      "metadata": {
        "colab": {
          "base_uri": "https://localhost:8080/"
        },
        "id": "s99z2XlYlv8j",
        "outputId": "3dc64a25-e2c0-49ed-854c-8dcafbef6ff7"
      },
      "execution_count": 17,
      "outputs": [
        {
          "output_type": "stream",
          "name": "stdout",
          "text": [
            "Enter your message: nurses\n",
            "OVSTFT\n"
          ]
        }
      ]
    },
    {
      "cell_type": "code",
      "source": [
        "# Caesar cipher - decrypting a message.\n",
        "cipher = input('Enter your cryptogram: ')\n",
        "text = ''\n",
        "for char in cipher:\n",
        "    if not char.isalpha():\n",
        "        continue\n",
        "    char = char.upper()\n",
        "    code = ord(char) - 1\n",
        "    if code < ord('A'):\n",
        "        code = ord('Z')\n",
        "    text += chr(code)\n",
        "\n",
        "print(text)\n"
      ],
      "metadata": {
        "colab": {
          "base_uri": "https://localhost:8080/"
        },
        "id": "GP1VUtBmmMTb",
        "outputId": "c3c03c54-76cb-4fe2-82c6-8528e9660895"
      },
      "execution_count": 18,
      "outputs": [
        {
          "output_type": "stream",
          "name": "stdout",
          "text": [
            "Enter your cryptogram: nurses\n",
            "MTQRDR\n"
          ]
        }
      ]
    },
    {
      "cell_type": "code",
      "source": [
        "# Numbers Processor.\n",
        "\n",
        "line = input(\"Enter a line of numbers - separate them with spaces: \")\n",
        "strings = line.split()\n",
        "total = 0\n",
        "try:\n",
        "    for substr in strings:\n",
        "        total += float(substr)\n",
        "    print(\"The total is:\", total)\n",
        "except:\n",
        "    print(substr, \"is not a number.\")\n"
      ],
      "metadata": {
        "colab": {
          "base_uri": "https://localhost:8080/"
        },
        "id": "fL01UNHureMK",
        "outputId": "3df9c8ef-44a6-4186-b797-7381be536499"
      },
      "execution_count": 19,
      "outputs": [
        {
          "output_type": "stream",
          "name": "stdout",
          "text": [
            "Enter a line of numbers - separate them with spaces: 45\n",
            "The total is: 45.0\n"
          ]
        }
      ]
    },
    {
      "cell_type": "code",
      "source": [
        "# IBAN Validator.\n",
        "\n",
        "iban = input(\"Enter IBAN, please: \")\n",
        "iban = iban.replace(' ','')\n",
        "\n",
        "if not iban.isalnum():\n",
        "    print(\"You have entered invalid characters.\")\n",
        "elif len(iban) < 15:\n",
        "    print(\"IBAN entered is too short.\")\n",
        "elif len(iban) > 31:\n",
        "    print(\"IBAN entered is too long.\")\n",
        "else:\n",
        "    iban = (iban[4:] + iban[0:4]).upper()\n",
        "    iban2 = ''\n",
        "    for ch in iban:\n",
        "        if ch.isdigit():\n",
        "            iban2 += ch\n",
        "        else:\n",
        "            iban2 += str(10 + ord(ch) - ord('A'))\n",
        "    iban = int(iban2)\n",
        "    if iban % 97 == 1:\n",
        "        print(\"IBAN entered is valid.\")\n",
        "    else:\n",
        "        print(\"IBAN entered is invalid.\")\n"
      ],
      "metadata": {
        "colab": {
          "base_uri": "https://localhost:8080/"
        },
        "id": "OI0b9ycHtPJr",
        "outputId": "b739a696-1892-4239-bc50-30d31ac34091"
      },
      "execution_count": 20,
      "outputs": [
        {
          "output_type": "stream",
          "name": "stdout",
          "text": [
            "Enter IBAN, please: 5463392\n",
            "IBAN entered is too short.\n"
          ]
        }
      ]
    },
    {
      "cell_type": "code",
      "source": [
        "def caesar_cipher(text, shift):\n",
        "    result = \"\"\n",
        "    for char in text:\n",
        "        if char.isalpha():\n",
        "            if char.isupper():\n",
        "                result += chr((ord(char) + shift - 65) % 26 + 65)\n",
        "            else:\n",
        "                result += chr((ord(char) + shift - 97) % 26 + 97)\n",
        "        else:\n",
        "            result += char\n",
        "    return result\n",
        "\n",
        "text = input(\"Enter a line of text to encrypt: \")\n",
        "shift = int(input(\"Enter a shift value (1-25): \"))\n",
        "while shift < 1 or shift > 25:\n",
        "    print(\"Invalid shift value. Please enter a number between 1 and 25.\")\n",
        "    shift = int(input(\"Enter a shift value (1-25): \"))\n",
        "\n",
        "print(\"The encoded text is:\", caesar_cipher(text, shift))\n"
      ],
      "metadata": {
        "colab": {
          "base_uri": "https://localhost:8080/"
        },
        "id": "Rss3jDCI8pMg",
        "outputId": "2b6ae806-d29b-42cf-f041-00d07d7cad4d"
      },
      "execution_count": 1,
      "outputs": [
        {
          "output_type": "stream",
          "name": "stdout",
          "text": [
            "Enter a line of text to encrypt: get out now\n",
            "Enter a shift value (1-25): 5\n",
            "The encoded text is: ljy tzy stb\n"
          ]
        }
      ]
    },
    {
      "cell_type": "code",
      "source": [
        "# palindrome program1\n",
        "\n",
        "def is_palindrome(text):\n",
        "    text = text.lower().replace(\" \", \"\")\n",
        "    return text == text[::-1]\n",
        "\n",
        "text = input(\"Enter some text: \")\n",
        "if is_palindrome(text):\n",
        "    print(\"It's a palindrome\")\n",
        "else:\n",
        "    print(\"It's not a palindrome\")"
      ],
      "metadata": {
        "id": "mCbEJ3LH8dcO"
      },
      "execution_count": null,
      "outputs": []
    },
    {
      "cell_type": "code",
      "source": [
        "#palindrome program2\n",
        "\n",
        "palindrome = input(\"Enter some text: \")\n",
        "palindrome = palindrome.lower().replace(\" \", \"\")\n",
        "if palindrome == palindrome[::-1]:\n",
        "    print(\"It's a palindrome\")\n",
        "else:\n",
        "    print(\"It's not a palindrome\")"
      ],
      "metadata": {
        "id": "ZNmuEcEKGsgg"
      },
      "execution_count": null,
      "outputs": []
    },
    {
      "cell_type": "code",
      "source": [
        "#palindrome program attempt\n",
        "\n",
        "palindrome = input(\"Enter some text: \")\n",
        "result = ''\n",
        "for i in palindrome:\n",
        "    if not i.isalpha():\n",
        "        continue\n",
        "    i = i.replace (\" \", \"\")\n",
        "    print(\"it\\'s a palindrome\")\n",
        "else:\n",
        "  print(\"It\\'s not a palindrome\")"
      ],
      "metadata": {
        "id": "c9_2znys-J__"
      },
      "execution_count": null,
      "outputs": []
    },
    {
      "cell_type": "code",
      "source": [
        "# anagram program1\n",
        "\n",
        "text1 = input(\"Enter the first text: \")\n",
        "text2 = input(\"Enter the second text: \")\n",
        "text1 = text1.lower().replace(\" \", \"\")\n",
        "text2 = text2.lower().replace(\" \", \"\")\n",
        "if sorted(text1) == sorted(text2):\n",
        "    print(\"The entered texts are anagrams\")\n",
        "else:\n",
        "    print(\"The entered texts are not anagrams\")\n"
      ],
      "metadata": {
        "id": "q79-ESLdjlMx"
      },
      "execution_count": null,
      "outputs": []
    },
    {
      "cell_type": "code",
      "source": [
        "#anagram program2\n",
        "\n",
        "def is_anagram(text1, text2):\n",
        "    text1 = text1.lower().replace(\" \", \"\")\n",
        "    text2 = text2.lower().replace(\" \", \"\")\n",
        "    return sorted(text1) == sorted(text2)\n",
        "\n",
        "text1 = input(\"Enter the first text: \")\n",
        "text2 = input(\"Enter the second text: \")\n",
        "if is_anagram(text1, text2):\n",
        "    print(\"The entered texts are anagrams\")\n",
        "else:\n",
        "    print(\"The entered texts are not anagrams\")"
      ],
      "metadata": {
        "id": "e1uIpFzBjv5G"
      },
      "execution_count": null,
      "outputs": []
    },
    {
      "cell_type": "code",
      "source": [
        "x = int(input())\n",
        "y = int(input())\n",
        "x = x/y\n",
        "y = y/x\n",
        "print(y)"
      ],
      "metadata": {
        "colab": {
          "base_uri": "https://localhost:8080/"
        },
        "id": "esJ3lxIZk9SY",
        "outputId": "e8c9fe7a-e3ba-492e-c20e-6de39307a343"
      },
      "execution_count": 2,
      "outputs": [
        {
          "output_type": "stream",
          "name": "stdout",
          "text": [
            "2\n",
            "4\n",
            "8.0\n"
          ]
        }
      ]
    },
    {
      "cell_type": "code",
      "source": [
        "x = int(input())\n",
        "y = int(input())\n",
        "x = x // y\n",
        "y = y //x\n",
        "print(y)"
      ],
      "metadata": {
        "colab": {
          "base_uri": "https://localhost:8080/",
          "height": 272
        },
        "id": "mpPu2KuOtm6I",
        "outputId": "1a18d1d1-c48a-4e73-8337-6b6ad2424df4"
      },
      "execution_count": 3,
      "outputs": [
        {
          "name": "stdout",
          "output_type": "stream",
          "text": [
            "2\n",
            "4\n"
          ]
        },
        {
          "output_type": "error",
          "ename": "ZeroDivisionError",
          "evalue": "ignored",
          "traceback": [
            "\u001b[0;31m---------------------------------------------------------------------------\u001b[0m",
            "\u001b[0;31mZeroDivisionError\u001b[0m                         Traceback (most recent call last)",
            "\u001b[0;32m<ipython-input-3-422e3b6e8f0e>\u001b[0m in \u001b[0;36m<cell line: 4>\u001b[0;34m()\u001b[0m\n\u001b[1;32m      2\u001b[0m \u001b[0my\u001b[0m \u001b[0;34m=\u001b[0m \u001b[0mint\u001b[0m\u001b[0;34m(\u001b[0m\u001b[0minput\u001b[0m\u001b[0;34m(\u001b[0m\u001b[0;34m)\u001b[0m\u001b[0;34m)\u001b[0m\u001b[0;34m\u001b[0m\u001b[0;34m\u001b[0m\u001b[0m\n\u001b[1;32m      3\u001b[0m \u001b[0mx\u001b[0m \u001b[0;34m=\u001b[0m \u001b[0mx\u001b[0m \u001b[0;34m//\u001b[0m \u001b[0my\u001b[0m\u001b[0;34m\u001b[0m\u001b[0;34m\u001b[0m\u001b[0m\n\u001b[0;32m----> 4\u001b[0;31m \u001b[0my\u001b[0m \u001b[0;34m=\u001b[0m \u001b[0my\u001b[0m \u001b[0;34m//\u001b[0m\u001b[0mx\u001b[0m\u001b[0;34m\u001b[0m\u001b[0;34m\u001b[0m\u001b[0m\n\u001b[0m\u001b[1;32m      5\u001b[0m \u001b[0mprint\u001b[0m\u001b[0;34m(\u001b[0m\u001b[0my\u001b[0m\u001b[0;34m)\u001b[0m\u001b[0;34m\u001b[0m\u001b[0;34m\u001b[0m\u001b[0m\n",
            "\u001b[0;31mZeroDivisionError\u001b[0m: integer division or modulo by zero"
          ]
        }
      ]
    },
    {
      "cell_type": "code",
      "source": [
        "# learning to use if-elif-else\n",
        "my_plant = input(\"Enter a plant name: \")\n",
        "if my_plant == \"Spathiphyllum\":\n",
        "    print(\"Yes - Spathiphyllum is the best plant ever!\")\n",
        "elif my_plant == \"Spathiphyllum\":\n",
        "    print(\"No, I want a big Spathiphyllum!\")\n",
        "else:\n",
        "    print(\"Spathiphyllum! Not\", my_plant + \"!\")"
      ],
      "metadata": {
        "colab": {
          "base_uri": "https://localhost:8080/"
        },
        "id": "uwV6cR8Pj60f",
        "outputId": "ad50996e-c16f-4ef9-849f-472654afb489"
      },
      "execution_count": 1,
      "outputs": [
        {
          "output_type": "stream",
          "name": "stdout",
          "text": [
            "Enter a plant name: pelergonia\n",
            "Spathiphyllum! Not pelergonia!\n"
          ]
        }
      ]
    },
    {
      "cell_type": "code",
      "source": [
        "#writing a simple tax calculator\n",
        "\n",
        "income = float(input(\"Enter your income: \"))\n",
        "\n",
        "if income <= 85528:\n",
        "    tax = round(income * 0.18 - 556.02)\n",
        "else:\n",
        "    tax = round(14839.02 + (income - 85528) * 0.32)\n",
        "\n",
        "print(\"Your tax is:\", tax, \"thalers\")\n"
      ],
      "metadata": {
        "id": "9ESC23G0GPQG"
      },
      "execution_count": null,
      "outputs": []
    },
    {
      "cell_type": "code",
      "source": [
        "year = int(input(\"Enter a year: \"))\n",
        "\n",
        "if year < 1582:\n",
        "    print(\"Not within the Gregorian calendar period\")\n",
        "else:\n",
        "    if year % 4 != 0:\n",
        "        print(\"Common year\")\n",
        "    elif year % 100 != 0:\n",
        "        print(\"Leap year\")\n",
        "    elif year % 400 != 0:\n",
        "        print(\"Common year\")\n",
        "    else:\n",
        "        print(\"Leap year\")\n",
        "\n",
        "#\n",
        "# Write your code here.\n",
        "#\n"
      ],
      "metadata": {
        "id": "aNQb4Ft1NpQC"
      },
      "execution_count": null,
      "outputs": []
    },
    {
      "cell_type": "code",
      "source": [
        "#list creationg using for loop\n",
        "\n",
        "squares = []\n",
        "for i in range(10):\n",
        "  squares.append(i * i)\n",
        "\n",
        "  print(squares)\n"
      ],
      "metadata": {
        "colab": {
          "base_uri": "https://localhost:8080/"
        },
        "id": "_ugZoO03BY_a",
        "outputId": "ebf6b229-2eb7-4d64-da46-bed3e563a88c"
      },
      "execution_count": 2,
      "outputs": [
        {
          "output_type": "stream",
          "name": "stdout",
          "text": [
            "[0]\n",
            "[0, 1]\n",
            "[0, 1, 4]\n",
            "[0, 1, 4, 9]\n",
            "[0, 1, 4, 9, 16]\n",
            "[0, 1, 4, 9, 16, 25]\n",
            "[0, 1, 4, 9, 16, 25, 36]\n",
            "[0, 1, 4, 9, 16, 25, 36, 49]\n",
            "[0, 1, 4, 9, 16, 25, 36, 49, 64]\n",
            "[0, 1, 4, 9, 16, 25, 36, 49, 64, 81]\n"
          ]
        }
      ]
    },
    {
      "cell_type": "code",
      "source": [
        "#range function invocation as 2 arguments\n",
        "for i in range(2, 8):\n",
        "    print(\"The value of i is currently\", i)"
      ],
      "metadata": {
        "colab": {
          "base_uri": "https://localhost:8080/"
        },
        "id": "D4MBpKemEnyJ",
        "outputId": "226f9e1f-4598-4d68-acdf-e6bb8d9f10ec"
      },
      "execution_count": 3,
      "outputs": [
        {
          "output_type": "stream",
          "name": "stdout",
          "text": [
            "The value of i is currently 2\n",
            "The value of i is currently 3\n",
            "The value of i is currently 4\n",
            "The value of i is currently 5\n",
            "The value of i is currently 6\n",
            "The value of i is currently 7\n"
          ]
        }
      ]
    },
    {
      "cell_type": "code",
      "source": [
        "power = 15\n",
        "print (2**15)"
      ],
      "metadata": {
        "colab": {
          "base_uri": "https://localhost:8080/"
        },
        "id": "GvPAULTiJovQ",
        "outputId": "10e9bf7a-ed5a-48fc-8c40-16d1978b12ec"
      },
      "execution_count": 5,
      "outputs": [
        {
          "output_type": "stream",
          "name": "stdout",
          "text": [
            "32768\n"
          ]
        }
      ]
    },
    {
      "cell_type": "code",
      "source": [
        "# task is very simple here: write a program that uses a for loop to \"count mississippily\" to five\n",
        "import time\n",
        "\n",
        "# Write a for loop that counts to five.\n",
        "for i in range(1, 6):\n",
        "    # Body of the loop - print the loop iteration number and the word \"Mississippi\".\n",
        "    print(i, \"Mississippi\")\n",
        "    # Body of the loop - use: time.sleep(1)\n",
        "    time.sleep(1)\n",
        "\n",
        "# Write a print function with the final message.\n",
        "print(\"Ready or not, here I come!\")\n"
      ],
      "metadata": {
        "id": "Qvxk853hRd7P"
      },
      "execution_count": null,
      "outputs": []
    },
    {
      "cell_type": "code",
      "source": [
        "#practicing the using break to terminate loop\n",
        "while True:\n",
        "    your_say = input(\"Say something here or type chupacabra to end program: \")\n",
        "    if your_say == \"chupacabra\":\n",
        "        print(\"You've successfully left the loop.\")\n",
        "        break"
      ],
      "metadata": {
        "id": "ZymhkCjn9PDK"
      },
      "execution_count": null,
      "outputs": []
    }
  ]
}
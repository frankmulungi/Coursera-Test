{
  "nbformat": 4,
  "nbformat_minor": 0,
  "metadata": {
    "colab": {
      "provenance": [],
      "authorship_tag": "ABX9TyMTrXBNR75m7Z/r0yohg1Ea",
      "include_colab_link": true
    },
    "kernelspec": {
      "name": "python3",
      "display_name": "Python 3"
    },
    "language_info": {
      "name": "python"
    }
  },
  "cells": [
    {
      "cell_type": "markdown",
      "metadata": {
        "id": "view-in-github",
        "colab_type": "text"
      },
      "source": [
        "<a href=\"https://colab.research.google.com/github/frankmulungi/Coursera-Test/blob/master/Python%20practice.ipynb\" target=\"_parent\"><img src=\"https://colab.research.google.com/assets/colab-badge.svg\" alt=\"Open In Colab\"/></a>"
      ]
    },
    {
      "cell_type": "code",
      "execution_count": 1,
      "metadata": {
        "id": "ZcX6tNnvNmyg"
      },
      "outputs": [],
      "source": [
        "from platform import platform\n",
        "\n",
        "from platform import machine\n",
        "\n",
        "from platform import processor\n",
        "\n",
        "from platform import system\n",
        "\n",
        "from platform import version\n",
        "\n",
        "from platform import python_implementation, python_version_tuple\n",
        "\n",
        "import os\n",
        "\n"
      ]
    },
    {
      "cell_type": "code",
      "source": [
        "dir(os)"
      ],
      "metadata": {
        "colab": {
          "base_uri": "https://localhost:8080/"
        },
        "id": "X2f_CJNbSxl0",
        "outputId": "9c9d2e16-6e8f-4200-c91c-963f88ecaebb"
      },
      "execution_count": 2,
      "outputs": [
        {
          "output_type": "execute_result",
          "data": {
            "text/plain": [
              "['CLD_CONTINUED',\n",
              " 'CLD_DUMPED',\n",
              " 'CLD_EXITED',\n",
              " 'CLD_KILLED',\n",
              " 'CLD_STOPPED',\n",
              " 'CLD_TRAPPED',\n",
              " 'DirEntry',\n",
              " 'EFD_CLOEXEC',\n",
              " 'EFD_NONBLOCK',\n",
              " 'EFD_SEMAPHORE',\n",
              " 'EX_CANTCREAT',\n",
              " 'EX_CONFIG',\n",
              " 'EX_DATAERR',\n",
              " 'EX_IOERR',\n",
              " 'EX_NOHOST',\n",
              " 'EX_NOINPUT',\n",
              " 'EX_NOPERM',\n",
              " 'EX_NOUSER',\n",
              " 'EX_OK',\n",
              " 'EX_OSERR',\n",
              " 'EX_OSFILE',\n",
              " 'EX_PROTOCOL',\n",
              " 'EX_SOFTWARE',\n",
              " 'EX_TEMPFAIL',\n",
              " 'EX_UNAVAILABLE',\n",
              " 'EX_USAGE',\n",
              " 'F_LOCK',\n",
              " 'F_OK',\n",
              " 'F_TEST',\n",
              " 'F_TLOCK',\n",
              " 'F_ULOCK',\n",
              " 'GRND_NONBLOCK',\n",
              " 'GRND_RANDOM',\n",
              " 'GenericAlias',\n",
              " 'MFD_ALLOW_SEALING',\n",
              " 'MFD_CLOEXEC',\n",
              " 'MFD_HUGETLB',\n",
              " 'MFD_HUGE_16GB',\n",
              " 'MFD_HUGE_16MB',\n",
              " 'MFD_HUGE_1GB',\n",
              " 'MFD_HUGE_1MB',\n",
              " 'MFD_HUGE_256MB',\n",
              " 'MFD_HUGE_2GB',\n",
              " 'MFD_HUGE_2MB',\n",
              " 'MFD_HUGE_32MB',\n",
              " 'MFD_HUGE_512KB',\n",
              " 'MFD_HUGE_512MB',\n",
              " 'MFD_HUGE_64KB',\n",
              " 'MFD_HUGE_8MB',\n",
              " 'MFD_HUGE_MASK',\n",
              " 'MFD_HUGE_SHIFT',\n",
              " 'Mapping',\n",
              " 'MutableMapping',\n",
              " 'NGROUPS_MAX',\n",
              " 'O_ACCMODE',\n",
              " 'O_APPEND',\n",
              " 'O_ASYNC',\n",
              " 'O_CLOEXEC',\n",
              " 'O_CREAT',\n",
              " 'O_DIRECT',\n",
              " 'O_DIRECTORY',\n",
              " 'O_DSYNC',\n",
              " 'O_EXCL',\n",
              " 'O_FSYNC',\n",
              " 'O_LARGEFILE',\n",
              " 'O_NDELAY',\n",
              " 'O_NOATIME',\n",
              " 'O_NOCTTY',\n",
              " 'O_NOFOLLOW',\n",
              " 'O_NONBLOCK',\n",
              " 'O_PATH',\n",
              " 'O_RDONLY',\n",
              " 'O_RDWR',\n",
              " 'O_RSYNC',\n",
              " 'O_SYNC',\n",
              " 'O_TMPFILE',\n",
              " 'O_TRUNC',\n",
              " 'O_WRONLY',\n",
              " 'POSIX_FADV_DONTNEED',\n",
              " 'POSIX_FADV_NOREUSE',\n",
              " 'POSIX_FADV_NORMAL',\n",
              " 'POSIX_FADV_RANDOM',\n",
              " 'POSIX_FADV_SEQUENTIAL',\n",
              " 'POSIX_FADV_WILLNEED',\n",
              " 'POSIX_SPAWN_CLOSE',\n",
              " 'POSIX_SPAWN_DUP2',\n",
              " 'POSIX_SPAWN_OPEN',\n",
              " 'PRIO_PGRP',\n",
              " 'PRIO_PROCESS',\n",
              " 'PRIO_USER',\n",
              " 'P_ALL',\n",
              " 'P_NOWAIT',\n",
              " 'P_NOWAITO',\n",
              " 'P_PGID',\n",
              " 'P_PID',\n",
              " 'P_PIDFD',\n",
              " 'P_WAIT',\n",
              " 'PathLike',\n",
              " 'RTLD_DEEPBIND',\n",
              " 'RTLD_GLOBAL',\n",
              " 'RTLD_LAZY',\n",
              " 'RTLD_LOCAL',\n",
              " 'RTLD_NODELETE',\n",
              " 'RTLD_NOLOAD',\n",
              " 'RTLD_NOW',\n",
              " 'RWF_APPEND',\n",
              " 'RWF_DSYNC',\n",
              " 'RWF_HIPRI',\n",
              " 'RWF_NOWAIT',\n",
              " 'RWF_SYNC',\n",
              " 'R_OK',\n",
              " 'SCHED_BATCH',\n",
              " 'SCHED_FIFO',\n",
              " 'SCHED_IDLE',\n",
              " 'SCHED_OTHER',\n",
              " 'SCHED_RESET_ON_FORK',\n",
              " 'SCHED_RR',\n",
              " 'SEEK_CUR',\n",
              " 'SEEK_DATA',\n",
              " 'SEEK_END',\n",
              " 'SEEK_HOLE',\n",
              " 'SEEK_SET',\n",
              " 'SPLICE_F_MORE',\n",
              " 'SPLICE_F_MOVE',\n",
              " 'SPLICE_F_NONBLOCK',\n",
              " 'ST_APPEND',\n",
              " 'ST_MANDLOCK',\n",
              " 'ST_NOATIME',\n",
              " 'ST_NODEV',\n",
              " 'ST_NODIRATIME',\n",
              " 'ST_NOEXEC',\n",
              " 'ST_NOSUID',\n",
              " 'ST_RDONLY',\n",
              " 'ST_RELATIME',\n",
              " 'ST_SYNCHRONOUS',\n",
              " 'ST_WRITE',\n",
              " 'TMP_MAX',\n",
              " 'WCONTINUED',\n",
              " 'WCOREDUMP',\n",
              " 'WEXITED',\n",
              " 'WEXITSTATUS',\n",
              " 'WIFCONTINUED',\n",
              " 'WIFEXITED',\n",
              " 'WIFSIGNALED',\n",
              " 'WIFSTOPPED',\n",
              " 'WNOHANG',\n",
              " 'WNOWAIT',\n",
              " 'WSTOPPED',\n",
              " 'WSTOPSIG',\n",
              " 'WTERMSIG',\n",
              " 'WUNTRACED',\n",
              " 'W_OK',\n",
              " 'XATTR_CREATE',\n",
              " 'XATTR_REPLACE',\n",
              " 'XATTR_SIZE_MAX',\n",
              " 'X_OK',\n",
              " '_Environ',\n",
              " '__all__',\n",
              " '__builtins__',\n",
              " '__cached__',\n",
              " '__doc__',\n",
              " '__file__',\n",
              " '__loader__',\n",
              " '__name__',\n",
              " '__package__',\n",
              " '__spec__',\n",
              " '_check_methods',\n",
              " '_execvpe',\n",
              " '_exists',\n",
              " '_exit',\n",
              " '_fspath',\n",
              " '_fwalk',\n",
              " '_get_exports_list',\n",
              " '_spawnvef',\n",
              " '_walk',\n",
              " '_wrap_close',\n",
              " 'abc',\n",
              " 'abort',\n",
              " 'access',\n",
              " 'altsep',\n",
              " 'chdir',\n",
              " 'chmod',\n",
              " 'chown',\n",
              " 'chroot',\n",
              " 'close',\n",
              " 'closerange',\n",
              " 'confstr',\n",
              " 'confstr_names',\n",
              " 'copy_file_range',\n",
              " 'cpu_count',\n",
              " 'ctermid',\n",
              " 'curdir',\n",
              " 'defpath',\n",
              " 'device_encoding',\n",
              " 'devnull',\n",
              " 'dup',\n",
              " 'dup2',\n",
              " 'environ',\n",
              " 'environb',\n",
              " 'error',\n",
              " 'eventfd',\n",
              " 'eventfd_read',\n",
              " 'eventfd_write',\n",
              " 'execl',\n",
              " 'execle',\n",
              " 'execlp',\n",
              " 'execlpe',\n",
              " 'execv',\n",
              " 'execve',\n",
              " 'execvp',\n",
              " 'execvpe',\n",
              " 'extsep',\n",
              " 'fchdir',\n",
              " 'fchmod',\n",
              " 'fchown',\n",
              " 'fdatasync',\n",
              " 'fdopen',\n",
              " 'fork',\n",
              " 'forkpty',\n",
              " 'fpathconf',\n",
              " 'fsdecode',\n",
              " 'fsencode',\n",
              " 'fspath',\n",
              " 'fstat',\n",
              " 'fstatvfs',\n",
              " 'fsync',\n",
              " 'ftruncate',\n",
              " 'fwalk',\n",
              " 'get_blocking',\n",
              " 'get_exec_path',\n",
              " 'get_inheritable',\n",
              " 'get_terminal_size',\n",
              " 'getcwd',\n",
              " 'getcwdb',\n",
              " 'getegid',\n",
              " 'getenv',\n",
              " 'getenvb',\n",
              " 'geteuid',\n",
              " 'getgid',\n",
              " 'getgrouplist',\n",
              " 'getgroups',\n",
              " 'getloadavg',\n",
              " 'getlogin',\n",
              " 'getpgid',\n",
              " 'getpgrp',\n",
              " 'getpid',\n",
              " 'getppid',\n",
              " 'getpriority',\n",
              " 'getrandom',\n",
              " 'getresgid',\n",
              " 'getresuid',\n",
              " 'getsid',\n",
              " 'getuid',\n",
              " 'getxattr',\n",
              " 'initgroups',\n",
              " 'isatty',\n",
              " 'kill',\n",
              " 'killpg',\n",
              " 'lchown',\n",
              " 'linesep',\n",
              " 'link',\n",
              " 'listdir',\n",
              " 'listxattr',\n",
              " 'lockf',\n",
              " 'lseek',\n",
              " 'lstat',\n",
              " 'major',\n",
              " 'makedev',\n",
              " 'makedirs',\n",
              " 'memfd_create',\n",
              " 'minor',\n",
              " 'mkdir',\n",
              " 'mkfifo',\n",
              " 'mknod',\n",
              " 'name',\n",
              " 'nice',\n",
              " 'open',\n",
              " 'openpty',\n",
              " 'pardir',\n",
              " 'path',\n",
              " 'pathconf',\n",
              " 'pathconf_names',\n",
              " 'pathsep',\n",
              " 'pidfd_open',\n",
              " 'pipe',\n",
              " 'pipe2',\n",
              " 'popen',\n",
              " 'posix_fadvise',\n",
              " 'posix_fallocate',\n",
              " 'posix_spawn',\n",
              " 'posix_spawnp',\n",
              " 'pread',\n",
              " 'preadv',\n",
              " 'putenv',\n",
              " 'pwrite',\n",
              " 'pwritev',\n",
              " 'read',\n",
              " 'readlink',\n",
              " 'readv',\n",
              " 'register_at_fork',\n",
              " 'remove',\n",
              " 'removedirs',\n",
              " 'removexattr',\n",
              " 'rename',\n",
              " 'renames',\n",
              " 'replace',\n",
              " 'rmdir',\n",
              " 'scandir',\n",
              " 'sched_get_priority_max',\n",
              " 'sched_get_priority_min',\n",
              " 'sched_getaffinity',\n",
              " 'sched_getparam',\n",
              " 'sched_getscheduler',\n",
              " 'sched_param',\n",
              " 'sched_rr_get_interval',\n",
              " 'sched_setaffinity',\n",
              " 'sched_setparam',\n",
              " 'sched_setscheduler',\n",
              " 'sched_yield',\n",
              " 'sendfile',\n",
              " 'sep',\n",
              " 'set_blocking',\n",
              " 'set_inheritable',\n",
              " 'setegid',\n",
              " 'seteuid',\n",
              " 'setgid',\n",
              " 'setgroups',\n",
              " 'setpgid',\n",
              " 'setpgrp',\n",
              " 'setpriority',\n",
              " 'setregid',\n",
              " 'setresgid',\n",
              " 'setresuid',\n",
              " 'setreuid',\n",
              " 'setsid',\n",
              " 'setuid',\n",
              " 'setxattr',\n",
              " 'spawnl',\n",
              " 'spawnle',\n",
              " 'spawnlp',\n",
              " 'spawnlpe',\n",
              " 'spawnv',\n",
              " 'spawnve',\n",
              " 'spawnvp',\n",
              " 'spawnvpe',\n",
              " 'splice',\n",
              " 'st',\n",
              " 'stat',\n",
              " 'stat_result',\n",
              " 'statvfs',\n",
              " 'statvfs_result',\n",
              " 'strerror',\n",
              " 'supports_bytes_environ',\n",
              " 'supports_dir_fd',\n",
              " 'supports_effective_ids',\n",
              " 'supports_fd',\n",
              " 'supports_follow_symlinks',\n",
              " 'symlink',\n",
              " 'sync',\n",
              " 'sys',\n",
              " 'sysconf',\n",
              " 'sysconf_names',\n",
              " 'system',\n",
              " 'tcgetpgrp',\n",
              " 'tcsetpgrp',\n",
              " 'terminal_size',\n",
              " 'times',\n",
              " 'times_result',\n",
              " 'truncate',\n",
              " 'ttyname',\n",
              " 'umask',\n",
              " 'uname',\n",
              " 'uname_result',\n",
              " 'unlink',\n",
              " 'unsetenv',\n",
              " 'urandom',\n",
              " 'utime',\n",
              " 'wait',\n",
              " 'wait3',\n",
              " 'wait4',\n",
              " 'waitid',\n",
              " 'waitid_result',\n",
              " 'waitpid',\n",
              " 'waitstatus_to_exitcode',\n",
              " 'walk',\n",
              " 'write',\n",
              " 'writev']"
            ]
          },
          "metadata": {},
          "execution_count": 2
        }
      ]
    },
    {
      "cell_type": "code",
      "source": [
        "\n",
        "print(version())"
      ],
      "metadata": {
        "colab": {
          "base_uri": "https://localhost:8080/"
        },
        "id": "rPbVhb4gPVr4",
        "outputId": "2f4a3298-8e17-4fff-9a45-6b97f7dc3204"
      },
      "execution_count": 3,
      "outputs": [
        {
          "output_type": "stream",
          "name": "stdout",
          "text": [
            "#1 SMP Fri Jun 9 10:57:30 UTC 2023\n"
          ]
        }
      ]
    },
    {
      "cell_type": "code",
      "source": [
        "print(python_implementation())\n",
        "\n",
        "for atr in python_version_tuple():\n",
        "    print(atr)\n"
      ],
      "metadata": {
        "colab": {
          "base_uri": "https://localhost:8080/"
        },
        "id": "HUwfV5RZRUPp",
        "outputId": "49b9d224-027b-47b0-c833-840777a12859"
      },
      "execution_count": 4,
      "outputs": [
        {
          "output_type": "stream",
          "name": "stdout",
          "text": [
            "CPython\n",
            "3\n",
            "10\n",
            "12\n"
          ]
        }
      ]
    },
    {
      "cell_type": "code",
      "source": [
        "\n",
        "print(system())"
      ],
      "metadata": {
        "colab": {
          "base_uri": "https://localhost:8080/"
        },
        "id": "52YC2F8tPIUi",
        "outputId": "5b34f605-3222-4d53-c37d-a58c2ae4c1ec"
      },
      "execution_count": 5,
      "outputs": [
        {
          "output_type": "stream",
          "name": "stdout",
          "text": [
            "Linux\n"
          ]
        }
      ]
    },
    {
      "cell_type": "code",
      "source": [
        "print(processor())"
      ],
      "metadata": {
        "colab": {
          "base_uri": "https://localhost:8080/"
        },
        "id": "WmN6-5wPO390",
        "outputId": "2448e498-3917-40c0-8c38-c66cd61d649e"
      },
      "execution_count": 6,
      "outputs": [
        {
          "output_type": "stream",
          "name": "stdout",
          "text": [
            "x86_64\n"
          ]
        }
      ]
    },
    {
      "cell_type": "code",
      "source": [
        "print(platform())"
      ],
      "metadata": {
        "colab": {
          "base_uri": "https://localhost:8080/"
        },
        "id": "NMHpgTV6OcQ1",
        "outputId": "f29afc7a-ed63-4172-9865-99fbd72b652b"
      },
      "execution_count": 7,
      "outputs": [
        {
          "output_type": "stream",
          "name": "stdout",
          "text": [
            "Linux-5.15.109+-x86_64-with-glibc2.35\n"
          ]
        }
      ]
    },
    {
      "cell_type": "code",
      "source": [
        "print(platform(1))\n"
      ],
      "metadata": {
        "colab": {
          "base_uri": "https://localhost:8080/"
        },
        "id": "2QBs3nVlNtn1",
        "outputId": "00685074-e837-4a58-aacf-6a9a1150c480"
      },
      "execution_count": 8,
      "outputs": [
        {
          "output_type": "stream",
          "name": "stdout",
          "text": [
            "Linux-5.15.109+-x86_64-with-glibc2.35\n"
          ]
        }
      ]
    },
    {
      "cell_type": "code",
      "source": [
        "print(platform(0, 1))"
      ],
      "metadata": {
        "colab": {
          "base_uri": "https://localhost:8080/"
        },
        "id": "DlZLkxMSNt7o",
        "outputId": "008f7a55-1bc4-4efd-dd57-fefaa19555b2"
      },
      "execution_count": 9,
      "outputs": [
        {
          "output_type": "stream",
          "name": "stdout",
          "text": [
            "Linux-5.15.109+-x86_64-with-glibc2.35\n"
          ]
        }
      ]
    },
    {
      "cell_type": "code",
      "source": [
        "\n",
        "\n",
        "print(machine())"
      ],
      "metadata": {
        "colab": {
          "base_uri": "https://localhost:8080/"
        },
        "id": "Ht3xQsNSOV6p",
        "outputId": "5a0c6c7d-5367-44c8-959f-64c736429760"
      },
      "execution_count": 10,
      "outputs": [
        {
          "output_type": "stream",
          "name": "stdout",
          "text": [
            "x86_64\n"
          ]
        }
      ]
    },
    {
      "cell_type": "code",
      "source": [
        "dir('random')"
      ],
      "metadata": {
        "colab": {
          "base_uri": "https://localhost:8080/"
        },
        "id": "pYwaoPccTCGt",
        "outputId": "8c97c033-5d40-40b0-b879-fade8eba4fac"
      },
      "execution_count": 11,
      "outputs": [
        {
          "output_type": "execute_result",
          "data": {
            "text/plain": [
              "['__add__',\n",
              " '__class__',\n",
              " '__contains__',\n",
              " '__delattr__',\n",
              " '__dir__',\n",
              " '__doc__',\n",
              " '__eq__',\n",
              " '__format__',\n",
              " '__ge__',\n",
              " '__getattribute__',\n",
              " '__getitem__',\n",
              " '__getnewargs__',\n",
              " '__gt__',\n",
              " '__hash__',\n",
              " '__init__',\n",
              " '__init_subclass__',\n",
              " '__iter__',\n",
              " '__le__',\n",
              " '__len__',\n",
              " '__lt__',\n",
              " '__mod__',\n",
              " '__mul__',\n",
              " '__ne__',\n",
              " '__new__',\n",
              " '__reduce__',\n",
              " '__reduce_ex__',\n",
              " '__repr__',\n",
              " '__rmod__',\n",
              " '__rmul__',\n",
              " '__setattr__',\n",
              " '__sizeof__',\n",
              " '__str__',\n",
              " '__subclasshook__',\n",
              " 'capitalize',\n",
              " 'casefold',\n",
              " 'center',\n",
              " 'count',\n",
              " 'encode',\n",
              " 'endswith',\n",
              " 'expandtabs',\n",
              " 'find',\n",
              " 'format',\n",
              " 'format_map',\n",
              " 'index',\n",
              " 'isalnum',\n",
              " 'isalpha',\n",
              " 'isascii',\n",
              " 'isdecimal',\n",
              " 'isdigit',\n",
              " 'isidentifier',\n",
              " 'islower',\n",
              " 'isnumeric',\n",
              " 'isprintable',\n",
              " 'isspace',\n",
              " 'istitle',\n",
              " 'isupper',\n",
              " 'join',\n",
              " 'ljust',\n",
              " 'lower',\n",
              " 'lstrip',\n",
              " 'maketrans',\n",
              " 'partition',\n",
              " 'removeprefix',\n",
              " 'removesuffix',\n",
              " 'replace',\n",
              " 'rfind',\n",
              " 'rindex',\n",
              " 'rjust',\n",
              " 'rpartition',\n",
              " 'rsplit',\n",
              " 'rstrip',\n",
              " 'split',\n",
              " 'splitlines',\n",
              " 'startswith',\n",
              " 'strip',\n",
              " 'swapcase',\n",
              " 'title',\n",
              " 'translate',\n",
              " 'upper',\n",
              " 'zfill']"
            ]
          },
          "metadata": {},
          "execution_count": 11
        }
      ]
    },
    {
      "cell_type": "code",
      "source": [
        "# Demonstrating the ord() function.\n",
        "\n",
        "char_1 = 'b'\n",
        "char_2 = ' '  # space\n",
        "\n",
        "print(ord(char_1))\n",
        "print(ord(char_2))\n"
      ],
      "metadata": {
        "colab": {
          "base_uri": "https://localhost:8080/"
        },
        "id": "ExhPkjDTaYfi",
        "outputId": "cbf5f426-3430-420e-ee2e-e7a074ba327e"
      },
      "execution_count": 2,
      "outputs": [
        {
          "output_type": "stream",
          "name": "stdout",
          "text": [
            "98\n",
            "32\n"
          ]
        }
      ]
    },
    {
      "cell_type": "code",
      "source": [
        "s1 = 'Where are the snows of yesteryear?'\n",
        "s2 = s1.split()"
      ],
      "metadata": {
        "id": "1-PtfoSIBvWq"
      },
      "execution_count": 1,
      "outputs": []
    },
    {
      "cell_type": "code",
      "source": [
        "def chromosome_check(chromosome):\n",
        "    for ch in chromosome:\n",
        "        if ch == 'X':\n",
        "            return female\n",
        "        if ch == 'Y':\n",
        "            return male\n",
        "        if ch == 'X' or ch == 'Y':\n",
        "            print(congratulations, 'you\\'re going to have a daughter.')\n",
        "            print(congratulations, 'you\\'re going to have a son.')\n",
        ""
      ],
      "metadata": {
        "id": "N0a_zM1sht0M"
      },
      "execution_count": 1,
      "outputs": []
    },
    {
      "cell_type": "code",
      "source": [
        "# Demonstrating the rfind() method:\n",
        "print(\"tau tau tau\".rfind(\"ta\"))\n",
        "print(\"tau tau tau\".rfind(\"ta\", 9))\n",
        "print(\"tau tau tau\".rfind(\"ta\", 3, 9))\n"
      ],
      "metadata": {
        "colab": {
          "base_uri": "https://localhost:8080/"
        },
        "id": "3fp0u12TA9I6",
        "outputId": "9d99dc12-7034-4184-92c1-06e21b28c2db"
      },
      "execution_count": 1,
      "outputs": [
        {
          "output_type": "stream",
          "name": "stdout",
          "text": [
            "8\n",
            "-1\n",
            "4\n"
          ]
        }
      ]
    },
    {
      "cell_type": "code",
      "source": [
        "def display_number(number):\n",
        "    digits = [\n",
        "        [\"###\", \"#.#\", \"#.#\", \"#.#\", \"###\"],  # digit 0\n",
        "        [\"..#\", \"..#\", \"..#\", \"..#\", \"..#\"],  # digit 1\n",
        "        [\"###\", \"..#\", \"###\", \"#..\", \"###\"],  # digit 2\n",
        "        [\"###\", \"..#\", \"###\", \"..#\", \"###\"],  # digit 3\n",
        "        [\"#.#\", \"#.#\", \"###\", \"..#\", \"..#\"],  # digit 4\n",
        "        [\"###\", \"#..\", \"###\", \"..#\", \"###\"],  # digit 5\n",
        "        [\"###\", \"#..\", \"###\", \"#.#\", \"###\"],  # digit 6\n",
        "        [\"###\", \"..#\", \"..#\", \"..#\", \"..#\"],  # digit 7\n",
        "        [\"###\", \"#.#\", \"###\", \"#.#\", \"###\"],  # digit 8\n",
        "        [\"###\", \"#.#\", \"###\", \"..#\", \"###\"]   # digit 9\n",
        "    ]\n",
        "    digits_str = str(number)\n",
        "    for row in range(5):\n",
        "        line = \"\"\n",
        "        for digit in digits_str:\n",
        "            line += digits[int(digit)][row] + \" \"\n",
        "        print(line)\n"
      ],
      "metadata": {
        "id": "8-CxzHDIqy9k"
      },
      "execution_count": 3,
      "outputs": []
    },
    {
      "cell_type": "code",
      "source": [
        "# Caesar cipher.\n",
        "text = input(\"Enter your message: \")\n",
        "cipher = ''\n",
        "for char in text:\n",
        "    if not char.isalpha():\n",
        "        continue\n",
        "    char = char.upper()\n",
        "    code = ord(char) + 1\n",
        "    if code > ord('Z'):\n",
        "        code = ord('A')\n",
        "    cipher += chr(code)\n",
        "\n",
        "print(cipher)\n"
      ],
      "metadata": {
        "id": "s99z2XlYlv8j"
      },
      "execution_count": null,
      "outputs": []
    },
    {
      "cell_type": "code",
      "source": [
        "# Caesar cipher - decrypting a message.\n",
        "cipher = input('Enter your cryptogram: ')\n",
        "text = ''\n",
        "for char in cipher:\n",
        "    if not char.isalpha():\n",
        "        continue\n",
        "    char = char.upper()\n",
        "    code = ord(char) - 1\n",
        "    if code < ord('A'):\n",
        "        code = ord('Z')\n",
        "    text += chr(code)\n",
        "\n",
        "print(text)\n"
      ],
      "metadata": {
        "id": "GP1VUtBmmMTb"
      },
      "execution_count": null,
      "outputs": []
    },
    {
      "cell_type": "code",
      "source": [
        "# Numbers Processor.\n",
        "\n",
        "line = input(\"Enter a line of numbers - separate them with spaces: \")\n",
        "strings = line.split()\n",
        "total = 0\n",
        "try:\n",
        "    for substr in strings:\n",
        "        total += float(substr)\n",
        "    print(\"The total is:\", total)\n",
        "except:\n",
        "    print(substr, \"is not a number.\")\n"
      ],
      "metadata": {
        "id": "fL01UNHureMK"
      },
      "execution_count": null,
      "outputs": []
    },
    {
      "cell_type": "code",
      "source": [
        "# IBAN Validator.\n",
        "\n",
        "iban = input(\"Enter IBAN, please: \")\n",
        "iban = iban.replace(' ','')\n",
        "\n",
        "if not iban.isalnum():\n",
        "    print(\"You have entered invalid characters.\")\n",
        "elif len(iban) < 15:\n",
        "    print(\"IBAN entered is too short.\")\n",
        "elif len(iban) > 31:\n",
        "    print(\"IBAN entered is too long.\")\n",
        "else:\n",
        "    iban = (iban[4:] + iban[0:4]).upper()\n",
        "    iban2 = ''\n",
        "    for ch in iban:\n",
        "        if ch.isdigit():\n",
        "            iban2 += ch\n",
        "        else:\n",
        "            iban2 += str(10 + ord(ch) - ord('A'))\n",
        "    iban = int(iban2)\n",
        "    if iban % 97 == 1:\n",
        "        print(\"IBAN entered is valid.\")\n",
        "    else:\n",
        "        print(\"IBAN entered is invalid.\")\n"
      ],
      "metadata": {
        "id": "OI0b9ycHtPJr"
      },
      "execution_count": null,
      "outputs": []
    },
    {
      "cell_type": "code",
      "source": [
        "def caesar_cipher(text, shift):\n",
        "    result = \"\"\n",
        "    for char in text:\n",
        "        if char.isalpha():\n",
        "            if char.isupper():\n",
        "                result += chr((ord(char) + shift - 65) % 26 + 65)\n",
        "            else:\n",
        "                result += chr((ord(char) + shift - 97) % 26 + 97)\n",
        "        else:\n",
        "            result += char\n",
        "    return result\n",
        "\n",
        "text = input(\"Enter a line of text to encrypt: \")\n",
        "shift = int(input(\"Enter a shift value (1-25): \"))\n",
        "while shift < 1 or shift > 25:\n",
        "    print(\"Invalid shift value. Please enter a number between 1 and 25.\")\n",
        "    shift = int(input(\"Enter a shift value (1-25): \"))\n",
        "\n",
        "print(\"The encoded text is:\", caesar_cipher(text, shift))\n"
      ],
      "metadata": {
        "id": "Rss3jDCI8pMg"
      },
      "execution_count": null,
      "outputs": []
    },
    {
      "cell_type": "code",
      "source": [
        "# palindrome program1\n",
        "\n",
        "def is_palindrome(text):\n",
        "    text = text.lower().replace(\" \", \"\")\n",
        "    return text == text[::-1]\n",
        "\n",
        "text = input(\"Enter some text: \")\n",
        "if is_palindrome(text):\n",
        "    print(\"It's a palindrome\")\n",
        "else:\n",
        "    print(\"It's not a palindrome\")"
      ],
      "metadata": {
        "colab": {
          "base_uri": "https://localhost:8080/"
        },
        "id": "mCbEJ3LH8dcO",
        "outputId": "4be02b6a-2ada-4fc9-e81c-73c150da7770"
      },
      "execution_count": 2,
      "outputs": [
        {
          "output_type": "stream",
          "name": "stdout",
          "text": [
            "Enter some text: nurses run\n",
            "It's a palindrome\n"
          ]
        }
      ]
    },
    {
      "cell_type": "code",
      "source": [
        "#palindrome program2\n",
        "\n",
        "palindrome = input(\"Enter some text: \")\n",
        "palindrome = palindrome.lower().replace(\" \", \"\")\n",
        "if palindrome == palindrome[::-1]:\n",
        "    print(\"It's a palindrome\")\n",
        "else:\n",
        "    print(\"It's not a palindrome\")"
      ],
      "metadata": {
        "colab": {
          "base_uri": "https://localhost:8080/"
        },
        "id": "ZNmuEcEKGsgg",
        "outputId": "372429f4-4e06-4e43-ebff-9b715ccf71ac"
      },
      "execution_count": 1,
      "outputs": [
        {
          "output_type": "stream",
          "name": "stdout",
          "text": [
            "Enter some text: nurses run\n",
            "It's a palindrome\n"
          ]
        }
      ]
    },
    {
      "cell_type": "code",
      "source": [
        "#palindrome program attempt\n",
        "\n",
        "palindrome = input(\"Enter some text: \")\n",
        "result = ''\n",
        "for i in palindrome:\n",
        "    if not i.isalpha():\n",
        "        continue\n",
        "    i = i.replace (\" \", \"\")\n",
        "    print(\"it\\'s a palindrome\")\n",
        "else:\n",
        "  print(\"It\\'s not a palindrome\")"
      ],
      "metadata": {
        "colab": {
          "base_uri": "https://localhost:8080/"
        },
        "id": "c9_2znys-J__",
        "outputId": "86e93cb3-48e3-4abf-81a5-2f4b05c2784e"
      },
      "execution_count": 6,
      "outputs": [
        {
          "output_type": "stream",
          "name": "stdout",
          "text": [
            "Enter some text: nurses run\n",
            "it's a palindrome\n",
            "it's a palindrome\n",
            "it's a palindrome\n",
            "it's a palindrome\n",
            "it's a palindrome\n",
            "it's a palindrome\n",
            "it's a palindrome\n",
            "it's a palindrome\n",
            "it's a palindrome\n",
            "It's not a palindrome\n"
          ]
        }
      ]
    },
    {
      "cell_type": "code",
      "source": [
        "# anagram program1\n",
        "\n",
        "text1 = input(\"Enter the first text: \")\n",
        "text2 = input(\"Enter the second text: \")\n",
        "text1 = text1.lower().replace(\" \", \"\")\n",
        "text2 = text2.lower().replace(\" \", \"\")\n",
        "if sorted(text1) == sorted(text2):\n",
        "    print(\"The entered texts are anagrams\")\n",
        "else:\n",
        "    print(\"The entered texts are not anagrams\")\n"
      ],
      "metadata": {
        "id": "q79-ESLdjlMx"
      },
      "execution_count": null,
      "outputs": []
    },
    {
      "cell_type": "code",
      "source": [
        "#anagram program2\n",
        "\n",
        "def is_anagram(text1, text2):\n",
        "    text1 = text1.lower().replace(\" \", \"\")\n",
        "    text2 = text2.lower().replace(\" \", \"\")\n",
        "    return sorted(text1) == sorted(text2)\n",
        "\n",
        "text1 = input(\"Enter the first text: \")\n",
        "text2 = input(\"Enter the second text: \")\n",
        "if is_anagram(text1, text2):\n",
        "    print(\"The entered texts are anagrams\")\n",
        "else:\n",
        "    print(\"The entered texts are not anagrams\")"
      ],
      "metadata": {
        "colab": {
          "base_uri": "https://localhost:8080/"
        },
        "id": "e1uIpFzBjv5G",
        "outputId": "41db8c38-e115-4c46-fd80-7945501a7340"
      },
      "execution_count": 1,
      "outputs": [
        {
          "output_type": "stream",
          "name": "stdout",
          "text": [
            "Enter the first text: Listen\n",
            "Enter the second text: Silent\n",
            "The entered texts are anagrams\n"
          ]
        }
      ]
    }
  ]
}
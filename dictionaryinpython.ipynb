{
  "nbformat": 4,
  "nbformat_minor": 0,
  "metadata": {
    "colab": {
      "provenance": [],
      "authorship_tag": "ABX9TyO0TwdLxV92Hyy3nqkovaKJ",
      "include_colab_link": true
    },
    "kernelspec": {
      "name": "python3",
      "display_name": "Python 3"
    },
    "language_info": {
      "name": "python"
    }
  },
  "cells": [
    {
      "cell_type": "markdown",
      "metadata": {
        "id": "view-in-github",
        "colab_type": "text"
      },
      "source": [
        "<a href=\"https://colab.research.google.com/github/frankmulungi/Coursera-Test/blob/master/dictionaryinpython.ipynb\" target=\"_parent\"><img src=\"https://colab.research.google.com/assets/colab-badge.svg\" alt=\"Open In Colab\"/></a>"
      ]
    },
    {
      "cell_type": "code",
      "source": [
        "Z"
      ],
      "metadata": {
        "id": "V7BLHDX5awFX"
      },
      "execution_count": null,
      "outputs": []
    },
    {
      "cell_type": "code",
      "execution_count": 1,
      "metadata": {
        "colab": {
          "base_uri": "https://localhost:8080/",
          "height": 140
        },
        "id": "gSuNEXIMM-81",
        "outputId": "4f0808d2-7fdf-4577-f5c7-9891863c6907"
      },
      "outputs": [
        {
          "output_type": "error",
          "ename": "IndentationError",
          "evalue": "ignored",
          "traceback": [
            "\u001b[0;36m  File \u001b[0;32m\"<ipython-input-1-c7ec66a1db0b>\"\u001b[0;36m, line \u001b[0;32m58\u001b[0m\n\u001b[0;31m    for fact_name, fact_value in maternal_family.items():\u001b[0m\n\u001b[0m    ^\u001b[0m\n\u001b[0;31mIndentationError\u001b[0m\u001b[0;31m:\u001b[0m unexpected indent\n"
          ]
        }
      ],
      "source": [
        "maternal_family = {\n",
        "    'babirye' : {'residence':'makindye',\n",
        "                 'children':['grace', 'godgers', 'remy', 'muwa'],\n",
        "                 'personality':['shy', 'caring', 'chatty'],\n",
        "                 'age': 60,\n",
        "                 'female': True},\n",
        "\n",
        "    'nakamya' : {'residence':'kitende',\n",
        "                 'children':['frank', 'sabra'],\n",
        "                 'personality':['funny', 'caring', 'chatty' 'bossy'],\n",
        "                 'age': 57,\n",
        "                 'female': True},\n",
        "\n",
        "    'serunjogi' : {'residence':'bulenga',\n",
        "                 'children':['ruth'],\n",
        "                 'personality':['outgoing', 'alcoholic', 'chaotic'],\n",
        "                 'age': 55,\n",
        "                 'female': False},\n",
        "\n",
        "    'katende' : {'residence':'najja',\n",
        "                 'children':['jarvis', 'janice', 'names_not_known'],\n",
        "                 'personality':['charming', 'too_clever', 'man_of_all_skirts'],\n",
        "                 'age': 54,\n",
        "                 'female': False},\n",
        "\n",
        "    'bogere' : {'residence':'lweza',\n",
        "                 'children':['sean', 'steve'],\n",
        "                 'personality':['helpful', 'flippant'],\n",
        "                 'age': 52,\n",
        "                 'female': False},\n",
        "\n",
        "    'grace_daisy' : {'residence':'deceased',\n",
        "                 'children': 'none',\n",
        "                 'personality':['loved_to_laugh', 'caring', 'principled'],\n",
        "                 'age': 50,\n",
        "                 'female': True},\n",
        "\n",
        "    'tulina' : {'residence':'bulenga',\n",
        "                 'children':['yvette', 'nathan', 'to_con', 'to_conf'],\n",
        "                 'personality':['committed', 'caring', 'chatty'],\n",
        "                 'age': 48,\n",
        "                 'female': True},\n",
        "\n",
        "    'kiwanuka' : {'residence':'ndejje',\n",
        "                 'children':['collins', 'cfrg', 'jnh', 'mkmkm' 'hannah'],\n",
        "                 'personality':['prayerful', 'lovely', 'chatty'],\n",
        "                 'age': 46,\n",
        "                 'female': True},\n",
        "\n",
        "    'nabatanzi' : {'residence':'makindye',\n",
        "                 'children':['ian', 'melissa', 'others_notknown'],\n",
        "                 'personality':['shy', 'caring', 'chatty'],\n",
        "                 'age': 43,\n",
        "                 'female': True},\n",
        "\n",
        "      }\n",
        "\n",
        "      for fact_name, fact_value in maternal_family.items():\n",
        "        print(\"Details about the maternal family\", fact_name)\n",
        "        for fact, value2 in fact_value.items():\n",
        "          print(fact, ' - - ', value2)\n",
        "\n",
        "          print('\\n\\n\\n')"
      ]
    }
  ]
}
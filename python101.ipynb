{
  "nbformat": 4,
  "nbformat_minor": 0,
  "metadata": {
    "colab": {
      "provenance": [],
      "authorship_tag": "ABX9TyO0n6zxPHcf8fSf4TCpaMnO",
      "include_colab_link": true
    },
    "kernelspec": {
      "name": "python3",
      "display_name": "Python 3"
    },
    "language_info": {
      "name": "python"
    }
  },
  "cells": [
    {
      "cell_type": "markdown",
      "metadata": {
        "id": "view-in-github",
        "colab_type": "text"
      },
      "source": [
        "<a href=\"https://colab.research.google.com/github/frankmulungi/Coursera-Test/blob/master/python101.ipynb\" target=\"_parent\"><img src=\"https://colab.research.google.com/assets/colab-badge.svg\" alt=\"Open In Colab\"/></a>"
      ]
    },
    {
      "cell_type": "code",
      "execution_count": 1,
      "metadata": {
        "colab": {
          "base_uri": "https://localhost:8080/"
        },
        "id": "mP-DjordKcfM",
        "outputId": "374be716-2f4d-45c5-b55f-8277b93e4898"
      },
      "outputs": [
        {
          "output_type": "stream",
          "name": "stdout",
          "text": [
            "Hello World\n"
          ]
        }
      ],
      "source": [
        "# start your journey with this simple command\n",
        "\n",
        "print ('Hello World')"
      ]
    },
    {
      "cell_type": "code",
      "source": [
        "# ask for their name\n",
        "name = input(\"What's your name? \")\n",
        "\n",
        "# remove whitespace from user's input and assign uppercase to name\n",
        "\n",
        "name = name.strip().title()\n",
        "\n",
        "# split user's name into first name and last name\n",
        "\n",
        "first, last = name.split(\" \")\n",
        "\n",
        "print (\"Hi, \", first)\n"
      ],
      "metadata": {
        "colab": {
          "base_uri": "https://localhost:8080/"
        },
        "id": "xjFjJ0NWLdAR",
        "outputId": "09b6509b-6b3b-4ec5-dacd-06b1ba36c6e4"
      },
      "execution_count": 13,
      "outputs": [
        {
          "output_type": "stream",
          "name": "stdout",
          "text": [
            "What's your name? frank mulungi\n",
            "Hi,  Frank\n"
          ]
        }
      ]
    },
    {
      "cell_type": "code",
      "source": [
        "# let's make a general purpose calculator in Python\n",
        "\n",
        "x = input(\"What's x? \")\n",
        "y = input(\"What's y? \")\n",
        "\n",
        "z = int(x) + int(y)\n",
        "\n",
        "print(z)"
      ],
      "metadata": {
        "colab": {
          "base_uri": "https://localhost:8080/"
        },
        "id": "iYF0Hx0-LdDB",
        "outputId": "69240620-736b-478f-f7e2-72849fdd0c62"
      },
      "execution_count": 17,
      "outputs": [
        {
          "output_type": "stream",
          "name": "stdout",
          "text": [
            "What's x? 2\n",
            "What's y? 7\n",
            "9\n"
          ]
        }
      ]
    },
    {
      "cell_type": "code",
      "source": [
        "# OR you can improve the above calculator code like this\n",
        "\n",
        "x = int(input(\"What's x? \"))\n",
        "y = int(input(\"What's y? \"))\n",
        "\n",
        "print(x + y)\n",
        "\n"
      ],
      "metadata": {
        "colab": {
          "base_uri": "https://localhost:8080/"
        },
        "id": "G4Wdg6NmLdFh",
        "outputId": "b5cb7f1c-d998-49f8-9e07-824c375ee85f"
      },
      "execution_count": 24,
      "outputs": [
        {
          "output_type": "stream",
          "name": "stdout",
          "text": [
            "What's x? 3\n",
            "What's y? 6\n",
            "9\n"
          ]
        }
      ]
    },
    {
      "cell_type": "code",
      "source": [
        "# you can round the float with like this\n",
        "a = float(input(\"What's a? \"))\n",
        "b = float(input(\"What's b? \"))\n",
        "\n",
        "c = round(a+b)\n",
        "\n",
        "# print value with comma separator for values that require it\n",
        "\n",
        "# remember f is the f-string\n",
        "print(f\"{c:,}\")"
      ],
      "metadata": {
        "colab": {
          "base_uri": "https://localhost:8080/"
        },
        "id": "3d1ySn48LdIN",
        "outputId": "730bc38f-741a-4ed0-e1f6-42d59a69c161"
      },
      "execution_count": 25,
      "outputs": [
        {
          "output_type": "stream",
          "name": "stdout",
          "text": [
            "What's a? 1500\n",
            "What's b? 499.9\n",
            "2,000\n"
          ]
        }
      ]
    },
    {
      "cell_type": "code",
      "source": [
        "# let's try out functions using def\n",
        "\n",
        "def hello():\n",
        "  print(\"hello\")\n",
        "\n",
        "name = input(\"What's your name? \")\n",
        "print (\"hello\", name)"
      ],
      "metadata": {
        "colab": {
          "base_uri": "https://localhost:8080/"
        },
        "id": "RphKqOgWLdKk",
        "outputId": "0eb16908-45ad-4ee6-d64c-f9da4c67d500"
      },
      "execution_count": 3,
      "outputs": [
        {
          "output_type": "stream",
          "name": "stdout",
          "text": [
            "What's your name? rita\n",
            "hello rita\n"
          ]
        }
      ]
    },
    {
      "cell_type": "code",
      "source": [
        "# going further in functions\n",
        "\n",
        "def main():\n",
        "  a = int(input(\"What's a? \"))\n",
        "  print(\"a squared is\", square(a))\n",
        "\n",
        "def square(n):\n",
        "  return n*n\n",
        "\n",
        "main()\n",
        "\n"
      ],
      "metadata": {
        "colab": {
          "base_uri": "https://localhost:8080/"
        },
        "id": "zcVH8KFSLdMr",
        "outputId": "7b1bd519-7d7c-455e-a469-345a1afbdc60"
      },
      "execution_count": 4,
      "outputs": [
        {
          "output_type": "stream",
          "name": "stdout",
          "text": [
            "What's a? 3\n",
            "a squared is 9\n"
          ]
        }
      ]
    },
    {
      "cell_type": "code",
      "source": [
        "# looking at conditionals --- if, elif, else, and\n",
        "\n",
        "score = int(input(\"Score \"))\n",
        "\n",
        "if 90 <= score and score <= 100:\n",
        "  print(\"Grade: A\")\n",
        "elif 80 <= score and score < 90:\n",
        "  print (\"Grade: B\")\n",
        "elif 70 <= score and score < 80:\n",
        "  print (\"Grade: C\")\n",
        "elif score >= 60 and score < 70:\n",
        "  print (\"Grade: D\")\n",
        "else:\n",
        "  print(\"Grade: F\")"
      ],
      "metadata": {
        "colab": {
          "base_uri": "https://localhost:8080/"
        },
        "id": "SDSROKV9LdPm",
        "outputId": "0592ca7c-867d-4e66-846e-5fd45b307cfa"
      },
      "execution_count": 8,
      "outputs": [
        {
          "output_type": "stream",
          "name": "stdout",
          "text": [
            "Score 78\n",
            "Grade: C \n"
          ]
        }
      ]
    },
    {
      "cell_type": "code",
      "source": [
        "# even better, the above code could be improved like so\n",
        "\n",
        "score = int(input(\"Score \"))\n",
        "\n",
        "if score >= 90:\n",
        "  print(\"Grade: A\")\n",
        "\n",
        "elif score >= 80:\n",
        "  print(\"Grade: B\")\n",
        "\n",
        "elif score >= 70:\n",
        "  print(\"Grade: C\")\n",
        "\n",
        "elif score >= 60:\n",
        "  print(\"Grade: D\")\n",
        "\n",
        "else:\n",
        "  print(\"Grade: F\")"
      ],
      "metadata": {
        "colab": {
          "base_uri": "https://localhost:8080/"
        },
        "id": "zCQpBjQILdSI",
        "outputId": "512a0f97-4421-49cc-c645-ec432a324969"
      },
      "execution_count": 10,
      "outputs": [
        {
          "output_type": "stream",
          "name": "stdout",
          "text": [
            "Score 88\n",
            "Grade: B\n"
          ]
        }
      ]
    },
    {
      "cell_type": "code",
      "source": [
        "# working with boolean values and showing use of % sign\n",
        "def real ():\n",
        "  x = int(input(\"What's x? \"))\n",
        "  if is_even(x):\n",
        "    print(\"Even\")\n",
        "  else:\n",
        "    print(\"Odd\")\n",
        "\n",
        "def is_even(n):\n",
        "  if n % 2 == 0:\n",
        "    return True\n",
        "  else:\n",
        "    return False\n",
        "\n",
        "real()\n"
      ],
      "metadata": {
        "colab": {
          "base_uri": "https://localhost:8080/"
        },
        "id": "FLB5foPlLdUU",
        "outputId": "55c1e4b1-947c-4998-fb9e-c8e0ffcbc389"
      },
      "execution_count": 18,
      "outputs": [
        {
          "output_type": "stream",
          "name": "stdout",
          "text": [
            "What's x? 11\n",
            "Odd\n"
          ]
        }
      ]
    },
    {
      "cell_type": "code",
      "source": [],
      "metadata": {
        "id": "bx7hdYd9LdXG"
      },
      "execution_count": null,
      "outputs": []
    },
    {
      "cell_type": "code",
      "source": [],
      "metadata": {
        "id": "Gp8CnZHCLdZs"
      },
      "execution_count": null,
      "outputs": []
    },
    {
      "cell_type": "code",
      "source": [],
      "metadata": {
        "id": "_ssxzjNaLdcS"
      },
      "execution_count": null,
      "outputs": []
    },
    {
      "cell_type": "code",
      "source": [],
      "metadata": {
        "id": "SWELqyGnLde9"
      },
      "execution_count": null,
      "outputs": []
    },
    {
      "cell_type": "code",
      "source": [],
      "metadata": {
        "id": "I0xlxvIsLdh4"
      },
      "execution_count": null,
      "outputs": []
    },
    {
      "cell_type": "code",
      "source": [],
      "metadata": {
        "id": "p_sa0uc-Ldkc"
      },
      "execution_count": null,
      "outputs": []
    },
    {
      "cell_type": "code",
      "source": [],
      "metadata": {
        "id": "QkwD9lN0LdnD"
      },
      "execution_count": null,
      "outputs": []
    },
    {
      "cell_type": "code",
      "source": [],
      "metadata": {
        "id": "bxD6_pm8Ldpa"
      },
      "execution_count": null,
      "outputs": []
    },
    {
      "cell_type": "code",
      "source": [],
      "metadata": {
        "id": "DyPf16PPLdr8"
      },
      "execution_count": null,
      "outputs": []
    },
    {
      "cell_type": "code",
      "source": [],
      "metadata": {
        "id": "v83Q0-tvLdui"
      },
      "execution_count": null,
      "outputs": []
    },
    {
      "cell_type": "code",
      "source": [],
      "metadata": {
        "id": "9lDLN2u9LdxJ"
      },
      "execution_count": null,
      "outputs": []
    },
    {
      "cell_type": "code",
      "source": [],
      "metadata": {
        "id": "4YYDkbNFLdzP"
      },
      "execution_count": null,
      "outputs": []
    },
    {
      "cell_type": "code",
      "source": [],
      "metadata": {
        "id": "VTAW5q8xLd17"
      },
      "execution_count": null,
      "outputs": []
    },
    {
      "cell_type": "code",
      "source": [],
      "metadata": {
        "id": "DXWmrg8JLd4p"
      },
      "execution_count": null,
      "outputs": []
    },
    {
      "cell_type": "code",
      "source": [],
      "metadata": {
        "id": "IJeiiYN2Ld7N"
      },
      "execution_count": null,
      "outputs": []
    },
    {
      "cell_type": "code",
      "source": [],
      "metadata": {
        "id": "LhSxedXeLd9N"
      },
      "execution_count": null,
      "outputs": []
    },
    {
      "cell_type": "code",
      "source": [],
      "metadata": {
        "id": "KZdU5Oi0LeAI"
      },
      "execution_count": null,
      "outputs": []
    },
    {
      "cell_type": "code",
      "source": [],
      "metadata": {
        "id": "8Tj27gSFLeC3"
      },
      "execution_count": null,
      "outputs": []
    },
    {
      "cell_type": "code",
      "source": [],
      "metadata": {
        "id": "f4CkIp5KLeFD"
      },
      "execution_count": null,
      "outputs": []
    },
    {
      "cell_type": "code",
      "source": [],
      "metadata": {
        "id": "QXbNKBFJLeHi"
      },
      "execution_count": null,
      "outputs": []
    },
    {
      "cell_type": "code",
      "source": [],
      "metadata": {
        "id": "mmzzxIv2LeJ5"
      },
      "execution_count": null,
      "outputs": []
    },
    {
      "cell_type": "code",
      "source": [],
      "metadata": {
        "id": "TZFkOng2LeMY"
      },
      "execution_count": null,
      "outputs": []
    },
    {
      "cell_type": "code",
      "source": [],
      "metadata": {
        "id": "Q1ECqh3tLeO8"
      },
      "execution_count": null,
      "outputs": []
    },
    {
      "cell_type": "code",
      "source": [],
      "metadata": {
        "id": "xjyHSrFeLeRH"
      },
      "execution_count": null,
      "outputs": []
    },
    {
      "cell_type": "code",
      "source": [],
      "metadata": {
        "id": "BF9MpWThLeT7"
      },
      "execution_count": null,
      "outputs": []
    },
    {
      "cell_type": "code",
      "source": [],
      "metadata": {
        "id": "FLkLngzULeWu"
      },
      "execution_count": null,
      "outputs": []
    },
    {
      "cell_type": "code",
      "source": [],
      "metadata": {
        "id": "zslGynscLeZq"
      },
      "execution_count": null,
      "outputs": []
    },
    {
      "cell_type": "code",
      "source": [],
      "metadata": {
        "id": "jBfaLufLLect"
      },
      "execution_count": null,
      "outputs": []
    },
    {
      "cell_type": "code",
      "source": [],
      "metadata": {
        "id": "Bxg3KPi_Lefe"
      },
      "execution_count": null,
      "outputs": []
    },
    {
      "cell_type": "code",
      "source": [],
      "metadata": {
        "id": "eL3bxsPALei4"
      },
      "execution_count": null,
      "outputs": []
    }
  ]
}